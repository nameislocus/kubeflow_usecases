{
 "cells": [
  {
   "cell_type": "code",
   "execution_count": 1,
   "metadata": {},
   "outputs": [
    {
     "name": "stdout",
     "output_type": "stream",
     "text": [
      "Requirement already satisfied: numpy in /opt/app-root/lib/python3.8/site-packages (1.19.5)\n",
      "Requirement already satisfied: boto3 in /opt/app-root/lib/python3.8/site-packages (1.17.11)\n",
      "Requirement already satisfied: jmespath<1.0.0,>=0.7.1 in /opt/app-root/lib/python3.8/site-packages (from boto3) (0.10.0)\n",
      "Requirement already satisfied: s3transfer<0.4.0,>=0.3.0 in /opt/app-root/lib/python3.8/site-packages (from boto3) (0.3.7)\n",
      "Requirement already satisfied: botocore<1.21.0,>=1.20.11 in /opt/app-root/lib/python3.8/site-packages (from boto3) (1.20.95)\n",
      "Requirement already satisfied: python-dateutil<3.0.0,>=2.1 in /opt/app-root/lib/python3.8/site-packages (from botocore<1.21.0,>=1.20.11->boto3) (2.8.1)\n",
      "Requirement already satisfied: urllib3<1.27,>=1.25.4 in /opt/app-root/lib/python3.8/site-packages (from botocore<1.21.0,>=1.20.11->boto3) (1.26.5)\n",
      "Requirement already satisfied: six>=1.5 in /opt/app-root/lib/python3.8/site-packages (from python-dateutil<3.0.0,>=2.1->botocore<1.21.0,>=1.20.11->boto3) (1.15.0)\n"
     ]
    }
   ],
   "source": [
    "!pip install numpy\n",
    "!pip install boto3\n",
    "import numpy as np\n",
    "import utils\n",
    "import boto3\n",
    "import pickle"
   ]
  },
  {
   "cell_type": "code",
   "execution_count": 2,
   "metadata": {},
   "outputs": [],
   "source": [
    "import os\n",
    "\n",
    "BASE_IMAGE = 'docker.io/pytorch/pytorch:1.0-cuda10.0-cudnn7-runtime'\n",
    "bucket_name = 'elyra'\n",
    "S3_END_POINT = \"http://minio-kubeflow.apps.openmaru.ocp482.com\"\n",
    "S3_ACCESS_ID = \"minio\"\n",
    "S3_ACCESS_KEY = \"minio123\""
   ]
  },
  {
   "cell_type": "code",
   "execution_count": 3,
   "metadata": {},
   "outputs": [
    {
     "data": {
      "text/plain": [
       "[{'Name': 'elyra',\n",
       "  'CreationDate': datetime.datetime(2021, 8, 15, 12, 37, 19, 55000, tzinfo=tzlocal())},\n",
       " {'Name': 'mlpipeline',\n",
       "  'CreationDate': datetime.datetime(2021, 7, 29, 13, 47, 55, 26000, tzinfo=tzlocal())}]"
      ]
     },
     "execution_count": 3,
     "metadata": {},
     "output_type": "execute_result"
    }
   ],
   "source": [
    "s3_endpoint_url = 'http://minio-kubeflow.apps.openmaru.ocp482.com'\n",
    "s3_access_key = \"minio\"\n",
    "s3_secret_key = \"minio123\"\n",
    "\n",
    "s3 = boto3.client(service_name='s3',\n",
    "              \taws_access_key_id = s3_access_key,\n",
    "              \taws_secret_access_key = s3_secret_key,\n",
    "              \tendpoint_url=s3_endpoint_url)\n",
    "\n",
    "s3.list_buckets()['Buckets']"
   ]
  },
  {
   "cell_type": "code",
   "execution_count": 4,
   "metadata": {},
   "outputs": [],
   "source": [
    "def write_to_store(bucket, data, key):\n",
    "    s3.put_object(Body=pickle.dumps(data),\n",
    "                      Bucket=bucket,\n",
    "                      Key=key)\n",
    "    \n",
    "def gen_hyperparam_grid() -> int:\n",
    "    '''Generate a list of namedtuples\n",
    "    of hyperparams to evaluate\n",
    "    '''\n",
    "\n",
    "    grid = []\n",
    "    for num_hidden_layers in [1,2,3]:\n",
    "        for num_nodes in [1,2,3]:\n",
    "            for activation in ['relu', 'sigmoid']:\n",
    "                grid.append({'num_hidden_layers': num_hidden_layers,\n",
    "                             'num_nodes': num_nodes,\n",
    "                             'activation': activation\n",
    "                            })\n",
    "\n",
    "\n",
    "    write_to_store(bucket_name, grid, 'hyperparam_grid')\n",
    "\n",
    "    return len(grid)"
   ]
  },
  {
   "cell_type": "code",
   "execution_count": 5,
   "metadata": {},
   "outputs": [],
   "source": [
    "retcode = gen_hyperparam_grid()\n",
    "if retcode <= 0: raise ValueError(\"Step 1b failed\")"
   ]
  },
  {
   "cell_type": "code",
   "execution_count": null,
   "metadata": {},
   "outputs": [],
   "source": []
  }
 ],
 "metadata": {
  "kernelspec": {
   "display_name": "Python 3",
   "language": "python",
   "name": "python3"
  },
  "language_info": {
   "codemirror_mode": {
    "name": "ipython",
    "version": 3
   },
   "file_extension": ".py",
   "mimetype": "text/x-python",
   "name": "python",
   "nbconvert_exporter": "python",
   "pygments_lexer": "ipython3",
   "version": "3.8.3"
  }
 },
 "nbformat": 4,
 "nbformat_minor": 4
}
